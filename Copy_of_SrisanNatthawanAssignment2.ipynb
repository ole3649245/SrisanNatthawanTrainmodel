{
  "nbformat": 4,
  "nbformat_minor": 0,
  "metadata": {
    "colab": {
      "provenance": [],
      "authorship_tag": "ABX9TyMNUfe/BIJBsVkSrEabXsZ0",
      "include_colab_link": true
    },
    "kernelspec": {
      "name": "python3",
      "display_name": "Python 3"
    },
    "language_info": {
      "name": "python"
    }
  },
  "cells": [
    {
      "cell_type": "markdown",
      "metadata": {
        "id": "view-in-github",
        "colab_type": "text"
      },
      "source": [
        "<a href=\"https://colab.research.google.com/github/ole3649245/SrisanNatthawanTrainmodel/blob/main/Copy_of_SrisanNatthawanAssignment2.ipynb\" target=\"_parent\"><img src=\"https://colab.research.google.com/assets/colab-badge.svg\" alt=\"Open In Colab\"/></a>"
      ]
    },
    {
      "cell_type": "code",
      "source": [
        "from google.colab import files\n",
        "import zipfile\n",
        "import os\n",
        "\n",
        "#upload ZIP\n",
        "uploaded = files.upload()\n",
        "\n",
        "#ZIP\n",
        "for file_name in uploaded.keys():\n",
        "    if file_name.endswith('.zip'):\n",
        "        with zipfile.ZipFile(file_name, 'r') as zip_ref:\n",
        "            zip_ref.extractall()\n",
        "            print(f\"Extracted: {file_name}\")\n",
        "\n",
        "\n",
        "print(os.listdir(\".\"))"
      ],
      "metadata": {
        "colab": {
          "base_uri": "https://localhost:8080/",
          "height": 109
        },
        "id": "YG2rEG-9Vkry",
        "outputId": "88eeba0a-5200-406d-fa5d-efe4a2bfec9d"
      },
      "execution_count": 11,
      "outputs": [
        {
          "output_type": "display_data",
          "data": {
            "text/plain": [
              "<IPython.core.display.HTML object>"
            ],
            "text/html": [
              "\n",
              "     <input type=\"file\" id=\"files-39f73df8-961b-48dd-8e52-7de5867b8cab\" name=\"files[]\" multiple disabled\n",
              "        style=\"border:none\" />\n",
              "     <output id=\"result-39f73df8-961b-48dd-8e52-7de5867b8cab\">\n",
              "      Upload widget is only available when the cell has been executed in the\n",
              "      current browser session. Please rerun this cell to enable.\n",
              "      </output>\n",
              "      <script>// Copyright 2017 Google LLC\n",
              "//\n",
              "// Licensed under the Apache License, Version 2.0 (the \"License\");\n",
              "// you may not use this file except in compliance with the License.\n",
              "// You may obtain a copy of the License at\n",
              "//\n",
              "//      http://www.apache.org/licenses/LICENSE-2.0\n",
              "//\n",
              "// Unless required by applicable law or agreed to in writing, software\n",
              "// distributed under the License is distributed on an \"AS IS\" BASIS,\n",
              "// WITHOUT WARRANTIES OR CONDITIONS OF ANY KIND, either express or implied.\n",
              "// See the License for the specific language governing permissions and\n",
              "// limitations under the License.\n",
              "\n",
              "/**\n",
              " * @fileoverview Helpers for google.colab Python module.\n",
              " */\n",
              "(function(scope) {\n",
              "function span(text, styleAttributes = {}) {\n",
              "  const element = document.createElement('span');\n",
              "  element.textContent = text;\n",
              "  for (const key of Object.keys(styleAttributes)) {\n",
              "    element.style[key] = styleAttributes[key];\n",
              "  }\n",
              "  return element;\n",
              "}\n",
              "\n",
              "// Max number of bytes which will be uploaded at a time.\n",
              "const MAX_PAYLOAD_SIZE = 100 * 1024;\n",
              "\n",
              "function _uploadFiles(inputId, outputId) {\n",
              "  const steps = uploadFilesStep(inputId, outputId);\n",
              "  const outputElement = document.getElementById(outputId);\n",
              "  // Cache steps on the outputElement to make it available for the next call\n",
              "  // to uploadFilesContinue from Python.\n",
              "  outputElement.steps = steps;\n",
              "\n",
              "  return _uploadFilesContinue(outputId);\n",
              "}\n",
              "\n",
              "// This is roughly an async generator (not supported in the browser yet),\n",
              "// where there are multiple asynchronous steps and the Python side is going\n",
              "// to poll for completion of each step.\n",
              "// This uses a Promise to block the python side on completion of each step,\n",
              "// then passes the result of the previous step as the input to the next step.\n",
              "function _uploadFilesContinue(outputId) {\n",
              "  const outputElement = document.getElementById(outputId);\n",
              "  const steps = outputElement.steps;\n",
              "\n",
              "  const next = steps.next(outputElement.lastPromiseValue);\n",
              "  return Promise.resolve(next.value.promise).then((value) => {\n",
              "    // Cache the last promise value to make it available to the next\n",
              "    // step of the generator.\n",
              "    outputElement.lastPromiseValue = value;\n",
              "    return next.value.response;\n",
              "  });\n",
              "}\n",
              "\n",
              "/**\n",
              " * Generator function which is called between each async step of the upload\n",
              " * process.\n",
              " * @param {string} inputId Element ID of the input file picker element.\n",
              " * @param {string} outputId Element ID of the output display.\n",
              " * @return {!Iterable<!Object>} Iterable of next steps.\n",
              " */\n",
              "function* uploadFilesStep(inputId, outputId) {\n",
              "  const inputElement = document.getElementById(inputId);\n",
              "  inputElement.disabled = false;\n",
              "\n",
              "  const outputElement = document.getElementById(outputId);\n",
              "  outputElement.innerHTML = '';\n",
              "\n",
              "  const pickedPromise = new Promise((resolve) => {\n",
              "    inputElement.addEventListener('change', (e) => {\n",
              "      resolve(e.target.files);\n",
              "    });\n",
              "  });\n",
              "\n",
              "  const cancel = document.createElement('button');\n",
              "  inputElement.parentElement.appendChild(cancel);\n",
              "  cancel.textContent = 'Cancel upload';\n",
              "  const cancelPromise = new Promise((resolve) => {\n",
              "    cancel.onclick = () => {\n",
              "      resolve(null);\n",
              "    };\n",
              "  });\n",
              "\n",
              "  // Wait for the user to pick the files.\n",
              "  const files = yield {\n",
              "    promise: Promise.race([pickedPromise, cancelPromise]),\n",
              "    response: {\n",
              "      action: 'starting',\n",
              "    }\n",
              "  };\n",
              "\n",
              "  cancel.remove();\n",
              "\n",
              "  // Disable the input element since further picks are not allowed.\n",
              "  inputElement.disabled = true;\n",
              "\n",
              "  if (!files) {\n",
              "    return {\n",
              "      response: {\n",
              "        action: 'complete',\n",
              "      }\n",
              "    };\n",
              "  }\n",
              "\n",
              "  for (const file of files) {\n",
              "    const li = document.createElement('li');\n",
              "    li.append(span(file.name, {fontWeight: 'bold'}));\n",
              "    li.append(span(\n",
              "        `(${file.type || 'n/a'}) - ${file.size} bytes, ` +\n",
              "        `last modified: ${\n",
              "            file.lastModifiedDate ? file.lastModifiedDate.toLocaleDateString() :\n",
              "                                    'n/a'} - `));\n",
              "    const percent = span('0% done');\n",
              "    li.appendChild(percent);\n",
              "\n",
              "    outputElement.appendChild(li);\n",
              "\n",
              "    const fileDataPromise = new Promise((resolve) => {\n",
              "      const reader = new FileReader();\n",
              "      reader.onload = (e) => {\n",
              "        resolve(e.target.result);\n",
              "      };\n",
              "      reader.readAsArrayBuffer(file);\n",
              "    });\n",
              "    // Wait for the data to be ready.\n",
              "    let fileData = yield {\n",
              "      promise: fileDataPromise,\n",
              "      response: {\n",
              "        action: 'continue',\n",
              "      }\n",
              "    };\n",
              "\n",
              "    // Use a chunked sending to avoid message size limits. See b/62115660.\n",
              "    let position = 0;\n",
              "    do {\n",
              "      const length = Math.min(fileData.byteLength - position, MAX_PAYLOAD_SIZE);\n",
              "      const chunk = new Uint8Array(fileData, position, length);\n",
              "      position += length;\n",
              "\n",
              "      const base64 = btoa(String.fromCharCode.apply(null, chunk));\n",
              "      yield {\n",
              "        response: {\n",
              "          action: 'append',\n",
              "          file: file.name,\n",
              "          data: base64,\n",
              "        },\n",
              "      };\n",
              "\n",
              "      let percentDone = fileData.byteLength === 0 ?\n",
              "          100 :\n",
              "          Math.round((position / fileData.byteLength) * 100);\n",
              "      percent.textContent = `${percentDone}% done`;\n",
              "\n",
              "    } while (position < fileData.byteLength);\n",
              "  }\n",
              "\n",
              "  // All done.\n",
              "  yield {\n",
              "    response: {\n",
              "      action: 'complete',\n",
              "    }\n",
              "  };\n",
              "}\n",
              "\n",
              "scope.google = scope.google || {};\n",
              "scope.google.colab = scope.google.colab || {};\n",
              "scope.google.colab._files = {\n",
              "  _uploadFiles,\n",
              "  _uploadFilesContinue,\n",
              "};\n",
              "})(self);\n",
              "</script> "
            ]
          },
          "metadata": {}
        },
        {
          "output_type": "stream",
          "name": "stdout",
          "text": [
            "Saving archive (1).zip to archive (1).zip\n",
            "Extracted: archive (1).zip\n",
            "['.config', 'train_energy_data.csv', 'test_energy_data.csv', 'archive (1).zip', 'sample_data']\n"
          ]
        }
      ]
    },
    {
      "cell_type": "code",
      "source": [
        "import pandas as pd\n",
        "\n",
        "#CSV\n",
        "train_data = pd.read_csv('train_energy_data.csv')\n",
        "print(\"Train Data:\")\n",
        "print(train_data.head())\n",
        "\n",
        "test_data = pd.read_csv('test_energy_data.csv')\n",
        "print(\"\\nTest Data:\")\n",
        "print(test_data.head())"
      ],
      "metadata": {
        "colab": {
          "base_uri": "https://localhost:8080/"
        },
        "id": "002JPfsdVuUD",
        "outputId": "9124b37c-ed2e-4d7a-b1f4-722bee607a44"
      },
      "execution_count": null,
      "outputs": [
        {
          "output_type": "stream",
          "name": "stdout",
          "text": [
            "Train Data:\n",
            "  Building Type  Square Footage  Number of Occupants  Appliances Used  \\\n",
            "0   Residential            7063                   76               10   \n",
            "1    Commercial           44372                   66               45   \n",
            "2    Industrial           19255                   37               17   \n",
            "3   Residential           13265                   14               41   \n",
            "4    Commercial           13375                   26               18   \n",
            "\n",
            "   Average Temperature Day of Week  Energy Consumption  \n",
            "0                29.84     Weekday             2713.95  \n",
            "1                16.72     Weekday             5744.99  \n",
            "2                14.30     Weekend             4101.24  \n",
            "3                32.82     Weekday             3009.14  \n",
            "4                11.92     Weekday             3279.17  \n",
            "\n",
            "Test Data:\n",
            "  Building Type  Square Footage  Number of Occupants  Appliances Used  \\\n",
            "0   Residential           24563                   15                4   \n",
            "1    Commercial           27583                   56               23   \n",
            "2    Commercial           45313                    4               44   \n",
            "3   Residential           41625                   84               17   \n",
            "4   Residential           36720                   58               47   \n",
            "\n",
            "   Average Temperature Day of Week  Energy Consumption  \n",
            "0                28.52     Weekday             2865.57  \n",
            "1                23.07     Weekend             4283.80  \n",
            "2                33.56     Weekday             5067.83  \n",
            "3                27.39     Weekend             4624.30  \n",
            "4                17.08     Weekday             4820.59  \n"
          ]
        }
      ]
    },
    {
      "cell_type": "code",
      "source": [
        "# โหลดข้อมูล\n",
        "import pandas as pd\n",
        "\n",
        "train_data = pd.read_csv('train_energy_data.csv')\n",
        "test_data = pd.read_csv('test_energy_data.csv')\n",
        "\n",
        "# ตรวจสอบข้อมูล\n",
        "print(train_data.head())\n",
        "print(test_data.head())\n",
        "\n",
        "# แยกฟีเจอร์และเป้าหมาย\n",
        "X_train = train_data.drop(columns=['Energy Consumption'])\n",
        "y_train = train_data['Energy Consumption']\n",
        "X_test = test_data.drop(columns=['Energy Consumption'])\n",
        "y_test = test_data['Energy Consumption']"
      ],
      "metadata": {
        "colab": {
          "base_uri": "https://localhost:8080/"
        },
        "id": "-AZz-Gi6SYQd",
        "outputId": "0e1f8a90-50c8-4e6f-d2ff-81817b67d648"
      },
      "execution_count": 18,
      "outputs": [
        {
          "output_type": "stream",
          "name": "stdout",
          "text": [
            "  Building Type  Square Footage  Number of Occupants  Appliances Used  \\\n",
            "0   Residential            7063                   76               10   \n",
            "1    Commercial           44372                   66               45   \n",
            "2    Industrial           19255                   37               17   \n",
            "3   Residential           13265                   14               41   \n",
            "4    Commercial           13375                   26               18   \n",
            "\n",
            "   Average Temperature Day of Week  Energy Consumption  \n",
            "0                29.84     Weekday             2713.95  \n",
            "1                16.72     Weekday             5744.99  \n",
            "2                14.30     Weekend             4101.24  \n",
            "3                32.82     Weekday             3009.14  \n",
            "4                11.92     Weekday             3279.17  \n",
            "  Building Type  Square Footage  Number of Occupants  Appliances Used  \\\n",
            "0   Residential           24563                   15                4   \n",
            "1    Commercial           27583                   56               23   \n",
            "2    Commercial           45313                    4               44   \n",
            "3   Residential           41625                   84               17   \n",
            "4   Residential           36720                   58               47   \n",
            "\n",
            "   Average Temperature Day of Week  Energy Consumption  \n",
            "0                28.52     Weekday             2865.57  \n",
            "1                23.07     Weekend             4283.80  \n",
            "2                33.56     Weekday             5067.83  \n",
            "3                27.39     Weekend             4624.30  \n",
            "4                17.08     Weekday             4820.59  \n"
          ]
        }
      ]
    },
    {
      "cell_type": "code",
      "source": [
        "from sklearn.preprocessing import LabelEncoder\n",
        "\n",
        "le = LabelEncoder()\n",
        "X_train['Day of Week'] = le.fit_transform(X_train['Day of Week'])\n",
        "X_test['Day of Week'] = le.transform(X_test['Day of Week'])"
      ],
      "metadata": {
        "id": "VPYRs8TvaHfy"
      },
      "execution_count": 19,
      "outputs": []
    },
    {
      "cell_type": "code",
      "source": [
        "X_train = pd.get_dummies(X_train, columns=['Building Type'], drop_first=True)\n",
        "X_test = pd.get_dummies(X_test, columns=['Building Type'], drop_first=True)"
      ],
      "metadata": {
        "id": "Ls7GbilscJds"
      },
      "execution_count": null,
      "outputs": []
    },
    {
      "cell_type": "code",
      "source": [
        "from sklearn.linear_model import LinearRegression\n",
        "from sklearn.metrics import mean_squared_error\n",
        "\n",
        "model = LinearRegression()\n",
        "model.fit(X_train, y_train)\n",
        "\n",
        "\n",
        "y_pred = model.predict(X_test)\n",
        "\n",
        "\n",
        "mse = mean_squared_error(y_test, y_pred)\n",
        "print(f\"Mean Squared Error: {mse}\")"
      ],
      "metadata": {
        "colab": {
          "base_uri": "https://localhost:8080/"
        },
        "id": "5XJkMRTOcO_9",
        "outputId": "abdf1be2-797e-45ce-9fd9-3755b21b9766"
      },
      "execution_count": null,
      "outputs": [
        {
          "output_type": "stream",
          "name": "stdout",
          "text": [
            "Mean Squared Error: 0.00020154241156390722\n"
          ]
        }
      ]
    },
    {
      "cell_type": "code",
      "source": [
        "import pandas as pd\n",
        "\n",
        "#DataFrame for result\n",
        "results = {\n",
        "    \"Metric\": [\"Mean Squared Error\"],\n",
        "    \"Value\": [0.00020154241156390722]\n",
        "}\n",
        "results_df = pd.DataFrame(results)\n",
        "\n",
        "# save in CSV\n",
        "results_df.to_csv(\"results.csv\", index=False)\n",
        "print(\"Results saved as 'results.csv'\")"
      ],
      "metadata": {
        "id": "Aapl8No7fn2g",
        "outputId": "a8aa588d-51f9-43fe-c1c1-6c5f55251f22",
        "colab": {
          "base_uri": "https://localhost:8080/"
        }
      },
      "execution_count": 20,
      "outputs": [
        {
          "output_type": "stream",
          "name": "stdout",
          "text": [
            "Results saved as 'results.csv'\n"
          ]
        }
      ]
    },
    {
      "cell_type": "code",
      "source": [
        "from google.colab import files\n",
        "files.download(\"results.csv\")"
      ],
      "metadata": {
        "id": "tkzCJ7aCf4C5",
        "outputId": "bcb9f12e-b864-457d-9408-4ddbc0c1e4e0",
        "colab": {
          "base_uri": "https://localhost:8080/",
          "height": 17
        }
      },
      "execution_count": 21,
      "outputs": [
        {
          "output_type": "display_data",
          "data": {
            "text/plain": [
              "<IPython.core.display.Javascript object>"
            ],
            "application/javascript": [
              "\n",
              "    async function download(id, filename, size) {\n",
              "      if (!google.colab.kernel.accessAllowed) {\n",
              "        return;\n",
              "      }\n",
              "      const div = document.createElement('div');\n",
              "      const label = document.createElement('label');\n",
              "      label.textContent = `Downloading \"${filename}\": `;\n",
              "      div.appendChild(label);\n",
              "      const progress = document.createElement('progress');\n",
              "      progress.max = size;\n",
              "      div.appendChild(progress);\n",
              "      document.body.appendChild(div);\n",
              "\n",
              "      const buffers = [];\n",
              "      let downloaded = 0;\n",
              "\n",
              "      const channel = await google.colab.kernel.comms.open(id);\n",
              "      // Send a message to notify the kernel that we're ready.\n",
              "      channel.send({})\n",
              "\n",
              "      for await (const message of channel.messages) {\n",
              "        // Send a message to notify the kernel that we're ready.\n",
              "        channel.send({})\n",
              "        if (message.buffers) {\n",
              "          for (const buffer of message.buffers) {\n",
              "            buffers.push(buffer);\n",
              "            downloaded += buffer.byteLength;\n",
              "            progress.value = downloaded;\n",
              "          }\n",
              "        }\n",
              "      }\n",
              "      const blob = new Blob(buffers, {type: 'application/binary'});\n",
              "      const a = document.createElement('a');\n",
              "      a.href = window.URL.createObjectURL(blob);\n",
              "      a.download = filename;\n",
              "      div.appendChild(a);\n",
              "      a.click();\n",
              "      div.remove();\n",
              "    }\n",
              "  "
            ]
          },
          "metadata": {}
        },
        {
          "output_type": "display_data",
          "data": {
            "text/plain": [
              "<IPython.core.display.Javascript object>"
            ],
            "application/javascript": [
              "download(\"download_dbcd433e-87d2-4101-9370-4527a53ea78a\", \"results.csv\", 55)"
            ]
          },
          "metadata": {}
        }
      ]
    }
  ]
}